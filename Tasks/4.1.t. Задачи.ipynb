{
 "cells": [
  {
   "cell_type": "markdown",
   "metadata": {},
   "source": [
    "# Исправьте ошибки"
   ]
  },
  {
   "cell_type": "code",
   "execution_count": null,
   "metadata": {},
   "outputs": [],
   "source": [
    "category = input('Введите вид кондитерской продукции:')\n",
    "taste = input('Введите вкус:')\n",
    "category = category.lower()\n",
    "taste = taste.lower()\n",
    "is_top = category  'торт'  taste  'шоколадный'\n",
    "print('Задан самый популярный запрос:', is_top)"
   ]
  },
  {
   "cell_type": "markdown",
   "metadata": {},
   "source": [
    "# Допишите программу"
   ]
  },
  {
   "cell_type": "code",
   "execution_count": null,
   "metadata": {},
   "outputs": [],
   "source": [
    "login = 'ivanova.ekaterina'\n",
    "password = # ввод пароля пользователя\n",
    "status = # проверка пароля на совпадение с эталонным: krakozyabra18\n",
    "print('Авторизация:', )"
   ]
  },
  {
   "cell_type": "markdown",
   "metadata": {},
   "source": [
    "# Напишите программу"
   ]
  },
  {
   "cell_type": "markdown",
   "metadata": {},
   "source": [
    "Кондитерская хочет настроить рекомендации товаров по акции. \n",
    "\n",
    "Акции предлагаются при выполнении двух условий:\n",
    "- покупатель хочет купить пирожные;\n",
    "- покупатель готов заплатить 500 рублей или меньше.\n",
    "\n",
    "Напиши программу, которая определяет, нужно ли предлагать товары по акции.\n",
    "\n",
    "Пример работы программы:\n",
    "<pre>\n",
    "Введите вид кондитерской продукции:\n",
    ">>> пирожные\n",
    "Введите допустимую для вас цену:\n",
    ">>> 500\n",
    "Предлагать продукцию по акции: True\n",
    "</pre>\n",
    "\n"
   ]
  }
 ],
 "metadata": {
  "kernelspec": {
   "display_name": "Python 3",
   "language": "python",
   "name": "python3"
  },
  "language_info": {
   "codemirror_mode": {
    "name": "ipython",
    "version": 3
   },
   "file_extension": ".py",
   "mimetype": "text/x-python",
   "name": "python",
   "nbconvert_exporter": "python",
   "pygments_lexer": "ipython3",
   "version": "3.11.4"
  },
  "orig_nbformat": 4
 },
 "nbformat": 4,
 "nbformat_minor": 2
}
