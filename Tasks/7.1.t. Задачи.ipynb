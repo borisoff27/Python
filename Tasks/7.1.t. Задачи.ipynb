{
 "cells": [
  {
   "cell_type": "markdown",
   "metadata": {},
   "source": [
    "# <hr>\n",
    "# Исправьте ошибки"
   ]
  },
  {
   "cell_type": "markdown",
   "metadata": {},
   "source": [
    "Магазин работает с 10 до 24 часов. (В 10 часов уже открыт, в 24 часа — уже закрыт.)\n",
    "\n",
    "Программа должна считывать текущее время. Если вводится рабочее время — выводить «Мы открыты» и снова спросить текущее время. Когда введено нерабочее время — программа должна напечатать «Мы закрыты. Часы работы: с 10 до 24.» и завершить работу."
   ]
  },
  {
   "cell_type": "markdown",
   "metadata": {},
   "source": [
    "Даны два целых числа m и n (m ≤ n). Напишите программу, которая выводит все целые числа от m до n включительно."
   ]
  },
  {
   "cell_type": "markdown",
   "metadata": {},
   "source": [
    "Даны два целых числа m и n. Напишите программу, которая выводит все целые числа в порядке возрастания."
   ]
  },
  {
   "cell_type": "markdown",
   "metadata": {},
   "source": [
    "Дано натуральное число n. Напишите программу, которая выводит таблицу умножения на n (от 1 до 10 включительно)."
   ]
  },
  {
   "cell_type": "markdown",
   "metadata": {},
   "source": [
    "**Формат входных данных**  \n",
    "5  \n",
    "  \n",
    "**Формат выходных данных**  \n",
    "5 x 1 = 5  \n",
    "5 x 2 = 10  \n",
    "5 x 3 = 15  \n",
    "5 x 4 = 20  \n",
    "5 x 5 = 25  \n",
    "5 x 6 = 30  \n",
    "5 x 7 = 35  \n",
    "5 x 8 = 40  \n",
    "5 x 9 = 45  \n",
    "5 x 10 = 50  "
   ]
  }
 ],
 "metadata": {
  "kernelspec": {
   "display_name": "Python 3",
   "language": "python",
   "name": "python3"
  },
  "language_info": {
   "codemirror_mode": {
    "name": "ipython",
    "version": 3
   },
   "file_extension": ".py",
   "mimetype": "text/x-python",
   "name": "python",
   "nbconvert_exporter": "python",
   "pygments_lexer": "ipython3",
   "version": "3.12.0"
  },
  "orig_nbformat": 4
 },
 "nbformat": 4,
 "nbformat_minor": 2
}
