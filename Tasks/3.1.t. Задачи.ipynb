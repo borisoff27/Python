{
 "cells": [
  {
   "cell_type": "markdown",
   "metadata": {},
   "source": [
    "# Задачи"
   ]
  },
  {
   "cell_type": "markdown",
   "metadata": {},
   "source": [
    "## Зоопарк"
   ]
  },
  {
   "cell_type": "markdown",
   "metadata": {},
   "source": [
    "В зоопарк должны были поехать трое взрослых и 65 детей.\n",
    "\n",
    "Стоимость билетов:\n",
    "* взрослый 2600\n",
    "* детский 1100\n",
    "\n",
    "Напишите программу, вычисляющую полную стоимость билетов."
   ]
  },
  {
   "cell_type": "markdown",
   "metadata": {},
   "source": [
    "---"
   ]
  },
  {
   "cell_type": "markdown",
   "metadata": {},
   "source": [
    "## Страховщик турфирмы"
   ]
  },
  {
   "cell_type": "markdown",
   "metadata": {},
   "source": [
    "В турфирму обратилась семья из 3 человек. Они хотят купить ВСЕ возможные страховки от несчастных случаев в путешествии. \n",
    "\n",
    "Турфирма предлагает страховки:\n",
    "- при потере багажа — 890 руб/за человека,\n",
    "- при отмене рейса — 875 руб/за человека,\n",
    "- при болезни — 1345 руб/за человека,\n",
    "- при потере документов — 2199 руб/за человека.\n",
    "\n",
    "Рассчитайте полную стоимость услуг и выведи результат с пометкой «Стоимость страхования семьи: »."
   ]
  },
  {
   "cell_type": "markdown",
   "metadata": {},
   "source": [
    "---"
   ]
  },
  {
   "cell_type": "markdown",
   "metadata": {},
   "source": [
    "## Товары со скидками"
   ]
  },
  {
   "cell_type": "markdown",
   "metadata": {},
   "source": [
    "На кассе любого магазина продаются товары со скидками. Клиентская скидка у каждого покупателя разная. Напишите программу, вычисляющая стоимость его покупки с учётом скидки."
   ]
  },
  {
   "cell_type": "markdown",
   "metadata": {},
   "source": [
    "---"
   ]
  }
 ],
 "metadata": {
  "kernelspec": {
   "display_name": "Python 3",
   "language": "python",
   "name": "python3"
  },
  "language_info": {
   "codemirror_mode": {
    "name": "ipython",
    "version": 3
   },
   "file_extension": ".py",
   "mimetype": "text/x-python",
   "name": "python",
   "nbconvert_exporter": "python",
   "pygments_lexer": "ipython3",
   "version": "3.11.4"
  },
  "orig_nbformat": 4
 },
 "nbformat": 4,
 "nbformat_minor": 2
}
