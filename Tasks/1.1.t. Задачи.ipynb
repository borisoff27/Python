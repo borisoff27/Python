{
 "cells": [
  {
   "cell_type": "markdown",
   "metadata": {},
   "source": [
    "# Задачи"
   ]
  },
  {
   "cell_type": "markdown",
   "metadata": {},
   "source": [
    "## Исправьте ошибки 1"
   ]
  },
  {
   "cell_type": "markdown",
   "metadata": {},
   "source": [
    "<pre>\n",
    "print (Я знаю, как печатать эффектно)\n",
    "print \"Нужно быстро тыкать по клавиатуре\"\n",
    "</pre>"
   ]
  },
  {
   "cell_type": "markdown",
   "metadata": {},
   "source": [
    "---"
   ]
  },
  {
   "cell_type": "markdown",
   "metadata": {},
   "source": [
    "## Исправьте ошибки 2"
   ]
  },
  {
   "cell_type": "markdown",
   "metadata": {},
   "source": [
    "<pre>\n",
    "print(r\"____/\\\\\\\\\\\\\\\\\\\\___/\\\\\\\\\\\\\\\\\\\\\\\\____\")\n",
    " print(r\" __/\\\\\\///////\\\\\\_\\/\\\\\\////////\\\\\\__\")\n",
    "  print(r\"  _\\///______/\\\\\\__\\/\\\\\\______\\//\\\\\\_\")\n",
    "   print(r\"   ________/\\\\\\//___\\/\\\\\\_______\\/\\\\\\_\")\n",
    "    print(r\"    _______\\////\\\\\\__\\/\\\\\\_______\\/\\\\\\_\")\n",
    "   print(r\"     __________\\//\\\\\\_\\/\\\\\\_______\\/\\\\\\_\")\n",
    "  print(r\"      _/\\\\\\______/\\\\\\__\\/\\\\\\_______/\\\\\\__\")\n",
    " print(r\"       \\///\\\\\\\\\\\\\\\\\\/___\\/\\\\\\\\\\\\\\\\\\\\\\\\/___\")\n",
    "print(r\"        __\\/////////_____\\////////////_____\")\n",
    "</pre>"
   ]
  },
  {
   "cell_type": "markdown",
   "metadata": {},
   "source": [
    "---"
   ]
  },
  {
   "cell_type": "markdown",
   "metadata": {},
   "source": [
    "## Измените программу"
   ]
  },
  {
   "cell_type": "markdown",
   "metadata": {},
   "source": [
    "Программа должна выводить: \n",
    "> **В сутках 24 часа**\n"
   ]
  },
  {
   "cell_type": "markdown",
   "metadata": {},
   "source": [
    "<pre>\n",
    "print(\"В утках\", 23, \"оса\")\n",
    "</pre>"
   ]
  },
  {
   "cell_type": "markdown",
   "metadata": {},
   "source": [
    "---"
   ]
  }
 ],
 "metadata": {
  "kernelspec": {
   "display_name": "Python 3",
   "language": "python",
   "name": "python3"
  },
  "language_info": {
   "codemirror_mode": {
    "name": "ipython",
    "version": 3
   },
   "file_extension": ".py",
   "mimetype": "text/x-python",
   "name": "python",
   "nbconvert_exporter": "python",
   "pygments_lexer": "ipython3",
   "version": "3.11.4"
  },
  "orig_nbformat": 4
 },
 "nbformat": 4,
 "nbformat_minor": 2
}
