{
 "cells": [
  {
   "cell_type": "markdown",
   "metadata": {},
   "source": [
    "# <hr>\n",
    "# Исправьте ошибки"
   ]
  },
  {
   "cell_type": "markdown",
   "metadata": {},
   "source": [
    "Магазин работает с 10 до 24 часов. (В 10 часов уже открыт, в 24 часа — уже закрыт.)\n",
    "\n",
    "Программа должна считывать текущее время. Если вводится рабочее время — выводить «Мы открыты» и снова спросить текущее время. Когда введено нерабочее время — программа должна напечатать «Мы закрыты. Часы работы: с 10 до 24.» и завершить работу."
   ]
  },
  {
   "cell_type": "code",
   "execution_count": null,
   "metadata": {},
   "outputs": [],
   "source": [
    "time = input('Введите текущее время в часах:')\n",
    "while time < 10 and time < 24\n",
    "    print(Мы открыты)\n",
    "time = int(input('Введите текущее время в часах:'))\n",
    "print('Мы закрыты. Часы работы: с 10 до 24.')"
   ]
  },
  {
   "cell_type": "markdown",
   "metadata": {},
   "source": [
    "# <hr>\n",
    "# Количество чисел"
   ]
  },
  {
   "cell_type": "markdown",
   "metadata": {},
   "source": [
    "Программа получает на вход последовательность целых неотрицательных чисел, каждое число записано в отдельной строке. Последовательность завершается числом 0, при считывании которого программа должна закончить свою работу и вывести количество членов последовательности (не считая завершающего числа 0).\n",
    "Числа, следующие за числом 0, считывать не нужно."
   ]
  },
  {
   "cell_type": "markdown",
   "metadata": {},
   "source": [
    "# <hr>\n",
    "# Среднее арифметическое"
   ]
  },
  {
   "cell_type": "markdown",
   "metadata": {},
   "source": [
    "Напишите программу программу, вычисляющую среднее арифметическое неопределённого количества чисел. Ноль – признак окончания ввода."
   ]
  },
  {
   "cell_type": "markdown",
   "metadata": {},
   "source": [
    "# <hr>\n",
    "# Квадраты чисел"
   ]
  },
  {
   "cell_type": "markdown",
   "metadata": {},
   "source": [
    "По данному целому числу N распечатайте все квадраты натуральных чисел, не превосходящие N, в порядке возрастания."
   ]
  },
  {
   "cell_type": "markdown",
   "metadata": {},
   "source": [
    "# <hr>\n",
    "# Степень двойки"
   ]
  },
  {
   "cell_type": "markdown",
   "metadata": {},
   "source": [
    "По данному числу N распечатайте все целые степени двойки, не превосходящие N, в порядке возрастания."
   ]
  },
  {
   "cell_type": "markdown",
   "metadata": {},
   "source": [
    "# <hr>\n",
    "# Степень двойки 2.0"
   ]
  },
  {
   "cell_type": "markdown",
   "metadata": {},
   "source": [
    "Дано натуральное число N. Выведите слово YES, если число N является точной степенью двойки, или слово NO в противном случае."
   ]
  }
 ],
 "metadata": {
  "kernelspec": {
   "display_name": "Python 3",
   "language": "python",
   "name": "python3"
  },
  "language_info": {
   "codemirror_mode": {
    "name": "ipython",
    "version": 3
   },
   "file_extension": ".py",
   "mimetype": "text/x-python",
   "name": "python",
   "nbconvert_exporter": "python",
   "pygments_lexer": "ipython3",
   "version": "3.11.4"
  },
  "orig_nbformat": 4
 },
 "nbformat": 4,
 "nbformat_minor": 2
}
