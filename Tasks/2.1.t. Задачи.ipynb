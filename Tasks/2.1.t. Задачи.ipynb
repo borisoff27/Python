{
 "cells": [
  {
   "cell_type": "markdown",
   "metadata": {},
   "source": [
    "# Задачи"
   ]
  },
  {
   "cell_type": "markdown",
   "metadata": {},
   "source": [
    "## Инфорация о пользователе"
   ]
  },
  {
   "cell_type": "markdown",
   "metadata": {},
   "source": [
    "Запросите у пользователя **ИМЯ**, **СТРАНУ** и **ГОД_РОЖДЕНИЯ**.\n",
    "\n",
    "<br>Выведите полученную информацию в следующем виде:\n",
    "<code>\n",
    "<br>Уважаемый, <b>ИМЯ</b>!\n",
    "<br>Вы живёте в стране: <b>СТРАНА</b>.\n",
    "<br>Ваш возраст: <b>ВОЗРАСТ</b>.\n",
    "</code>"
   ]
  },
  {
   "cell_type": "markdown",
   "metadata": {},
   "source": [
    "---"
   ]
  },
  {
   "cell_type": "markdown",
   "metadata": {},
   "source": [
    "## Снежинка"
   ]
  },
  {
   "cell_type": "markdown",
   "metadata": {},
   "source": [
    "Используя команду **print** выведите на экран снежинку следующего вида:\n",
    "<pre>\n",
    "<code>\n",
    "*     *     *\n",
    "  *   *   *\n",
    "    * * *\n",
    "* * * * * * *\n",
    "    * * *\n",
    "  *   *   *\n",
    "*     *     *\n",
    "</code>\n",
    "</pre>"
   ]
  },
  {
   "cell_type": "markdown",
   "metadata": {},
   "source": [
    "---"
   ]
  },
  {
   "cell_type": "markdown",
   "metadata": {},
   "source": [
    "## Ёлочка"
   ]
  },
  {
   "cell_type": "markdown",
   "metadata": {},
   "source": [
    "Программа запрашивает один символ. Выведите ёлочку, состоящую из этого символа.\n",
    "<pre>\n",
    "<code>\n",
    "    T\n",
    "   TTT\n",
    "  TTTTT\n",
    "   TTT\n",
    " TTTTTTT\n",
    "  TTTTT\n",
    "TTTTTTTTT\n",
    "</code>\n",
    "</pre>"
   ]
  },
  {
   "cell_type": "markdown",
   "metadata": {},
   "source": [
    "---"
   ]
  }
 ],
 "metadata": {
  "kernelspec": {
   "display_name": "Python 3",
   "language": "python",
   "name": "python3"
  },
  "language_info": {
   "codemirror_mode": {
    "name": "ipython",
    "version": 3
   },
   "file_extension": ".py",
   "mimetype": "text/x-python",
   "name": "python",
   "nbconvert_exporter": "python",
   "pygments_lexer": "ipython3",
   "version": "3.11.4"
  },
  "orig_nbformat": 4
 },
 "nbformat": 4,
 "nbformat_minor": 2
}
