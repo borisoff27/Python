{
 "cells": [
  {
   "cell_type": "markdown",
   "metadata": {},
   "source": [
    "# Задачи"
   ]
  },
  {
   "cell_type": "markdown",
   "metadata": {},
   "source": [
    "## День рождения"
   ]
  },
  {
   "cell_type": "markdown",
   "metadata": {},
   "source": [
    "У Тани день рождения. Она купила N конфет. По сколько конфет получит каждый её друг, если у нее K друзей?"
   ]
  },
  {
   "cell_type": "markdown",
   "metadata": {},
   "source": [
    "---"
   ]
  },
  {
   "cell_type": "markdown",
   "metadata": {},
   "source": [
    "## День рождения друга"
   ]
  },
  {
   "cell_type": "markdown",
   "metadata": {},
   "source": [
    "В скором времени Вася, друг Тани, тоже празднует день рождения. Он заказал N коробок с пиццей. У Васи есть маленькая сестрёнка, которая не смогла присутствовать во время празднования. Вася хочет поделить пиццу поровну между всеми K гостями. Сколько кусочков пиццы Вася отложит для сестрёнки, если в каждой коробке по 6 кусочков?"
   ]
  },
  {
   "cell_type": "markdown",
   "metadata": {},
   "source": [
    "---"
   ]
  },
  {
   "cell_type": "markdown",
   "metadata": {},
   "source": [
    "## Пирожки"
   ]
  },
  {
   "cell_type": "markdown",
   "metadata": {},
   "source": [
    "Брат Тани по пути в школу нашёл N рублей. Сколько рублей ему нужно добавить, чтобы купить четыре пирожка, который стоит K рублей, чтобы угостить всю семью.\n"
   ]
  },
  {
   "cell_type": "markdown",
   "metadata": {},
   "source": [
    "---"
   ]
  },
  {
   "cell_type": "markdown",
   "metadata": {},
   "source": [
    "## Площадь прямоугольного участка"
   ]
  },
  {
   "cell_type": "markdown",
   "metadata": {},
   "source": [
    "Папа Тани - тракторист.  Он пашет землю. Определите площадь предстоящей работы Ивана Фёдоровича, если длина поля А метров, а ширина - В метров.\n",
    "<br><i>Подсказка: S = A * B</i>\n"
   ]
  },
  {
   "cell_type": "markdown",
   "metadata": {},
   "source": [
    "---"
   ]
  },
  {
   "cell_type": "markdown",
   "metadata": {},
   "source": [
    "## Площадь треугольного участка"
   ]
  },
  {
   "cell_type": "markdown",
   "metadata": {},
   "source": [
    "У Ивана Фёдоровича новый заказ. В этот раз поле имеет форму прямоугольного треугольника. Каков фронт работы теперь, если стороны катетов равны А и В? \n",
    "<br><i>Подсказка: S = ½ * A * B</i>\n"
   ]
  },
  {
   "cell_type": "markdown",
   "metadata": {},
   "source": [
    "---"
   ]
  },
  {
   "cell_type": "markdown",
   "metadata": {},
   "source": [
    "## Периметр участка"
   ]
  },
  {
   "cell_type": "markdown",
   "metadata": {},
   "source": [
    "Дядя Тани – Олег Алексеевич. Он строитель. Вычислите периметр забора, если каждая сторона длиннее предыдущей в два раза, а начальная сторона – А метров. Всего 4 стороны.\n"
   ]
  },
  {
   "cell_type": "markdown",
   "metadata": {},
   "source": [
    "---"
   ]
  }
 ],
 "metadata": {
  "language_info": {
   "name": "python"
  },
  "orig_nbformat": 4
 },
 "nbformat": 4,
 "nbformat_minor": 2
}
